{
    "nbformat_minor": 1, 
    "cells": [
        {
            "execution_count": 2, 
            "cell_type": "code", 
            "metadata": {}, 
            "outputs": [
                {
                    "output_type": "stream", 
                    "name": "stdout", 
                    "text": "3\n"
                }
            ], 
            "source": "import tensorflow as tf\n\nx1 = tf.constant(1)\nx2 = tf.constant(2)\n\nz = tf.add(x1, x2)\n\nsess = tf.Session()\nprint(sess.run(z))\nsess.close()"
        }, 
        {
            "execution_count": 6, 
            "cell_type": "code", 
            "metadata": {}, 
            "outputs": [
                {
                    "output_type": "stream", 
                    "name": "stdout", 
                    "text": "3\n"
                }
            ], 
            "source": "x1 = tf.Variable(1)\nx2 = tf.Variable(2)\n\nz = tf.add(x1, x2)\ninit = tf.global_variables_initializer()\n\nsess = tf.Session()\n\nsess.run(init)\nprint(sess.run(z))\nsess.close()"
        }, 
        {
            "execution_count": 10, 
            "cell_type": "code", 
            "metadata": {}, 
            "outputs": [
                {
                    "output_type": "stream", 
                    "name": "stdout", 
                    "text": "Tensor(\"Add_8:0\", shape=(3,), dtype=float32)\n[ 12.  12.   7.]\n"
                }
            ], 
            "source": "dimension = 3\nx1 = tf.placeholder(tf.float32, dimension)\nx2 = tf.placeholder(tf.float32, dimension)\n\nz = tf.add(x1, x2)\nprint(z)\n\nfeed = {x1: [5, 8, 6], x2:[7, 4, 1]}\n\nsess = tf.Session()\n\nprint(sess.run(z, feed))\nsess.close()"
        }, 
        {
            "execution_count": 13, 
            "cell_type": "code", 
            "metadata": {}, 
            "outputs": [
                {
                    "output_type": "stream", 
                    "name": "stdout", 
                    "text": "17\n"
                }
            ], 
            "source": "x1 = tf.constant(2)\nx2 = x1 + 3\nx3 = tf.multiply(x2, x1)\n\nz = x1 + x2 + x3\n\nwith tf.Session() as sess:\n    print(sess.run(z))"
        }, 
        {
            "execution_count": null, 
            "cell_type": "code", 
            "metadata": {}, 
            "outputs": [], 
            "source": ""
        }
    ], 
    "metadata": {
        "kernelspec": {
            "display_name": "Python 3.5", 
            "name": "python3", 
            "language": "python"
        }, 
        "language_info": {
            "mimetype": "text/x-python", 
            "nbconvert_exporter": "python", 
            "version": "3.5.5", 
            "name": "python", 
            "file_extension": ".py", 
            "pygments_lexer": "ipython3", 
            "codemirror_mode": {
                "version": 3, 
                "name": "ipython"
            }
        }
    }, 
    "nbformat": 4
}